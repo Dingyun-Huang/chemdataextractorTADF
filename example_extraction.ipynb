{
 "cells": [
  {
   "cell_type": "markdown",
   "id": "0",
   "metadata": {},
   "source": [
    "### Example extraction of a paper from the Royal Society of Chemistry"
   ]
  },
  {
   "cell_type": "markdown",
   "id": "1",
   "metadata": {},
   "source": [
    "#### Import the required modules"
   ]
  },
  {
   "cell_type": "code",
   "execution_count": null,
   "id": "2",
   "metadata": {},
   "outputs": [],
   "source": [
    "from tadf_models.models import *\n",
    "from chemdataextractor.doc import Document, Citation\n",
    "import json\n",
    "import importlib.resources\n",
    "from chemdataextractor.model import ThemeCompound\n",
    "import os\n",
    "from pprint import pprint"
   ]
  },
  {
   "cell_type": "markdown",
   "id": "3",
   "metadata": {},
   "source": [
    "#### Load the compound blocklists"
   ]
  },
  {
   "cell_type": "code",
   "execution_count": null,
   "id": "4",
   "metadata": {},
   "outputs": [],
   "source": [
    "tadf_blocklist = importlib.resources.files('tadf_models').joinpath('tadf_blocklist_6_more_abbrev_enriched').read_text(encoding='utf8')\n",
    "\n",
    "element_blocklist = importlib.resources.files('tadf_models').joinpath('elements').read_text(encoding='utf8')\n",
    "tadf_blocklist = tadf_blocklist.split('\\n')\n",
    "element_blocklist = element_blocklist.split('\\n')\n",
    "ThemeCompound.name_blocklist = ThemeCompound.name_blocklist + tadf_blocklist + element_blocklist"
   ]
  },
  {
   "cell_type": "code",
   "execution_count": null,
   "id": "5",
   "metadata": {},
   "outputs": [],
   "source": [
    "class TADFExtractor():\n",
    "    \"\"\"Class that extracts a document and saves records in JSON format.\"\"\"\n",
    "\n",
    "    def __init__(self, paper_root, models):\n",
    "        \"\"\"\n",
    "        Initalise the class with the directory and name of the document, the models to extract, and the save directory.\n",
    "        :param str paper_root: directory that stores the paper.\n",
    "        :param str save_root: directory that the JSON results are written into.\n",
    "        :param str filename: The name of output file name.\n",
    "        :param list[chemdataextractor.models.BaseModel] models: list of ChemDataExtractor models to extract.\n",
    "        \"\"\"\n",
    "        self.dic = None\n",
    "        self.paper_root = paper_root\n",
    "        self.models = models\n",
    "        self.count = 0\n",
    "\n",
    "    def is_incomplete_paper(self, fstring):\n",
    "        \"\"\"\n",
    "        Method that check if a document is complete.\n",
    "        :param str fstring: document in plain text string.\n",
    "        :returns: if the document is complete or not.\n",
    "        :rtype: Boolean.\n",
    "        \"\"\"\n",
    "        print('Checking completeness.')\n",
    "        if \"(Note: The full text of this document is currently only available in the\" in fstring:\n",
    "            # RSC case\n",
    "            return True\n",
    "        elif \"<xocs:rawtext\" in fstring:\n",
    "            # Elsevier case\n",
    "            return True\n",
    "        return False\n",
    "\n",
    "    def load_document(self, file):\n",
    "        \"\"\"\n",
    "        Method that load a document into a chemdataextractor.doc.Document object.\n",
    "        :param str file: path to the document.\n",
    "        :returns: the Document object and if the document is incomplete.\n",
    "        :rtype: chemdataextractor.doc.Document, Boolean\n",
    "        \"\"\"\n",
    "\n",
    "        d = Document.from_file(file)\n",
    "        incomplete = False\n",
    "        with open(file, encoding=\"utf8\") as f:\n",
    "            fstring = f.read()\n",
    "        if self.is_incomplete_paper(fstring):\n",
    "            incomplete = True\n",
    "\n",
    "        return d, incomplete\n",
    "\n",
    "    def extraction(self, file):\n",
    "        \"\"\"\n",
    "        Method that load a extract records from a document and save them in JSON.\n",
    "        :param str file: path to the document.\n",
    "        \"\"\"\n",
    "\n",
    "        print(f'Attempting to extract {file}.')\n",
    "\n",
    "        if True:\n",
    "            doc, incomplete = self.load_document(os.path.join(self.paper_root, file))\n",
    "\n",
    "            if incomplete:\n",
    "                print(f'{file} is incomplete!')\n",
    "                return\n",
    "            \n",
    "            else:\n",
    "                print(f\"{file} is complete, extracting.\")\n",
    "\n",
    "                try:\n",
    "                    doi = doc.metadata.doi\n",
    "\n",
    "                except IndexError:\n",
    "                    print(\"MetaData is Empty.\")\n",
    "                    doi = file.name\n",
    "\n",
    "                doc.models = self.models\n",
    "                doc.skip_elements = [Citation]\n",
    "                rough = doc.records\n",
    "\n",
    "                records = []\n",
    "                for r in rough:\n",
    "                    self.dic = r.serialize()\n",
    "                    self.dic['doi'] = doi\n",
    "                    self.dic['record_method'] = r.record_method\n",
    "                    records.append(self.dic)\n",
    "                    self.count += 1\n",
    "\n",
    "                print(f\"{self.count} records in total\")\n",
    "                print(f\"{file} extracted.\")\n",
    "                return records"
   ]
  },
  {
   "cell_type": "markdown",
   "id": "6",
   "metadata": {},
   "source": [
    "#### Start the extraction!"
   ]
  },
  {
   "cell_type": "code",
   "execution_count": null,
   "id": "7",
   "metadata": {},
   "outputs": [],
   "source": [
    "# The extraction will takes ~5 mins to run.\n",
    "mdb = TADFExtractor(paper_root=\"papers_for_extraction\", \n",
    "                    models=[STSplit])\n",
    "records = mdb.extraction(\"test.html\")"
   ]
  },
  {
   "cell_type": "code",
   "execution_count": null,
   "id": "8",
   "metadata": {},
   "outputs": [],
   "source": [
    "### print the extracted records ###\n",
    "pprint(records)"
   ]
  },
  {
   "cell_type": "code",
   "execution_count": null,
   "id": "9",
   "metadata": {},
   "outputs": [],
   "source": []
  }
 ],
 "metadata": {
  "kernelspec": {
   "display_name": "Python 3",
   "language": "python",
   "name": "python3"
  },
  "language_info": {
   "codemirror_mode": {
    "name": "ipython",
    "version": 3
   },
   "file_extension": ".py",
   "mimetype": "text/x-python",
   "name": "python",
   "nbconvert_exporter": "python",
   "pygments_lexer": "ipython3",
   "version": "3.11.11"
  }
 },
 "nbformat": 4,
 "nbformat_minor": 5
}
