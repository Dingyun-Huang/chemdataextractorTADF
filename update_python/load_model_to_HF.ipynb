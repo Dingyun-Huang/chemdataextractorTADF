{
 "cells": [
  {
   "cell_type": "code",
   "execution_count": 1,
   "metadata": {},
   "outputs": [
    {
     "name": "stderr",
     "output_type": "stream",
     "text": [
      "c:\\Users\\jack_\\miniconda3\\envs\\cde-dev-2\\lib\\site-packages\\stanza\\models\\pos\\trainer.py:105: FutureWarning: You are using `torch.load` with `weights_only=False` (the current default value), which uses the default pickle module implicitly. It is possible to construct malicious pickle data which will execute arbitrary code during unpickling (See https://github.com/pytorch/pytorch/blob/main/SECURITY.md#untrusted-models for more details). In a future release, the default value for `weights_only` will be flipped to `True`. This limits the functions that could be executed during unpickling. Arbitrary objects will no longer be allowed to be loaded via this mode unless they are explicitly allowlisted by the user via `torch.serialization.add_safe_globals`. We recommend you start setting `weights_only=True` for any use case where you don't have full control of the loaded file. Please open an issue on GitHub for any issues related to this experimental feature.\n",
      "  checkpoint = torch.load(filename, lambda storage, loc: storage)\n",
      "c:\\Users\\jack_\\miniconda3\\envs\\cde-dev-2\\lib\\site-packages\\stanza\\models\\common\\pretrain.py:56: FutureWarning: You are using `torch.load` with `weights_only=False` (the current default value), which uses the default pickle module implicitly. It is possible to construct malicious pickle data which will execute arbitrary code during unpickling (See https://github.com/pytorch/pytorch/blob/main/SECURITY.md#untrusted-models for more details). In a future release, the default value for `weights_only` will be flipped to `True`. This limits the functions that could be executed during unpickling. Arbitrary objects will no longer be allowed to be loaded via this mode unless they are explicitly allowlisted by the user via `torch.serialization.add_safe_globals`. We recommend you start setting `weights_only=True` for any use case where you don't have full control of the loaded file. Please open an issue on GitHub for any issues related to this experimental feature.\n",
      "  data = torch.load(self.filename, lambda storage, loc: storage)\n",
      "c:\\Users\\jack_\\miniconda3\\envs\\cde-dev-2\\lib\\site-packages\\stanza\\models\\common\\char_model.py:262: FutureWarning: You are using `torch.load` with `weights_only=False` (the current default value), which uses the default pickle module implicitly. It is possible to construct malicious pickle data which will execute arbitrary code during unpickling (See https://github.com/pytorch/pytorch/blob/main/SECURITY.md#untrusted-models for more details). In a future release, the default value for `weights_only` will be flipped to `True`. This limits the functions that could be executed during unpickling. Arbitrary objects will no longer be allowed to be loaded via this mode unless they are explicitly allowlisted by the user via `torch.serialization.add_safe_globals`. We recommend you start setting `weights_only=True` for any use case where you don't have full control of the loaded file. Please open an issue on GitHub for any issues related to this experimental feature.\n",
      "  state = torch.load(filename, lambda storage, loc: storage)\n",
      "c:\\Users\\jack_\\miniconda3\\envs\\cde-dev-2\\lib\\site-packages\\stanza\\models\\lemma\\trainer.py:227: FutureWarning: You are using `torch.load` with `weights_only=False` (the current default value), which uses the default pickle module implicitly. It is possible to construct malicious pickle data which will execute arbitrary code during unpickling (See https://github.com/pytorch/pytorch/blob/main/SECURITY.md#untrusted-models for more details). In a future release, the default value for `weights_only` will be flipped to `True`. This limits the functions that could be executed during unpickling. Arbitrary objects will no longer be allowed to be loaded via this mode unless they are explicitly allowlisted by the user via `torch.serialization.add_safe_globals`. We recommend you start setting `weights_only=True` for any use case where you don't have full control of the loaded file. Please open an issue on GitHub for any issues related to this experimental feature.\n",
      "  checkpoint = torch.load(filename, lambda storage, loc: storage)\n",
      "c:\\Users\\jack_\\miniconda3\\envs\\cde-dev-2\\lib\\site-packages\\stanza\\models\\constituency\\trainer.py:196: FutureWarning: You are using `torch.load` with `weights_only=False` (the current default value), which uses the default pickle module implicitly. It is possible to construct malicious pickle data which will execute arbitrary code during unpickling (See https://github.com/pytorch/pytorch/blob/main/SECURITY.md#untrusted-models for more details). In a future release, the default value for `weights_only` will be flipped to `True`. This limits the functions that could be executed during unpickling. Arbitrary objects will no longer be allowed to be loaded via this mode unless they are explicitly allowlisted by the user via `torch.serialization.add_safe_globals`. We recommend you start setting `weights_only=True` for any use case where you don't have full control of the loaded file. Please open an issue on GitHub for any issues related to this experimental feature.\n",
      "  checkpoint = torch.load(filename, lambda storage, loc: storage)\n",
      "c:\\Users\\jack_\\miniconda3\\envs\\cde-dev-2\\lib\\site-packages\\stanza\\models\\depparse\\trainer.py:103: FutureWarning: You are using `torch.load` with `weights_only=False` (the current default value), which uses the default pickle module implicitly. It is possible to construct malicious pickle data which will execute arbitrary code during unpickling (See https://github.com/pytorch/pytorch/blob/main/SECURITY.md#untrusted-models for more details). In a future release, the default value for `weights_only` will be flipped to `True`. This limits the functions that could be executed during unpickling. Arbitrary objects will no longer be allowed to be loaded via this mode unless they are explicitly allowlisted by the user via `torch.serialization.add_safe_globals`. We recommend you start setting `weights_only=True` for any use case where you don't have full control of the loaded file. Please open an issue on GitHub for any issues related to this experimental feature.\n",
      "  checkpoint = torch.load(filename, lambda storage, loc: storage)\n",
      "c:\\Users\\jack_\\miniconda3\\envs\\cde-dev-2\\lib\\site-packages\\stanza\\models\\classifiers\\trainer.py:70: FutureWarning: You are using `torch.load` with `weights_only=False` (the current default value), which uses the default pickle module implicitly. It is possible to construct malicious pickle data which will execute arbitrary code during unpickling (See https://github.com/pytorch/pytorch/blob/main/SECURITY.md#untrusted-models for more details). In a future release, the default value for `weights_only` will be flipped to `True`. This limits the functions that could be executed during unpickling. Arbitrary objects will no longer be allowed to be loaded via this mode unless they are explicitly allowlisted by the user via `torch.serialization.add_safe_globals`. We recommend you start setting `weights_only=True` for any use case where you don't have full control of the loaded file. Please open an issue on GitHub for any issues related to this experimental feature.\n",
      "  checkpoint = torch.load(filename, lambda storage, loc: storage)\n",
      "c:\\Users\\jack_\\miniconda3\\envs\\cde-dev-2\\lib\\site-packages\\stanza\\models\\ner\\trainer.py:171: FutureWarning: You are using `torch.load` with `weights_only=False` (the current default value), which uses the default pickle module implicitly. It is possible to construct malicious pickle data which will execute arbitrary code during unpickling (See https://github.com/pytorch/pytorch/blob/main/SECURITY.md#untrusted-models for more details). In a future release, the default value for `weights_only` will be flipped to `True`. This limits the functions that could be executed during unpickling. Arbitrary objects will no longer be allowed to be loaded via this mode unless they are explicitly allowlisted by the user via `torch.serialization.add_safe_globals`. We recommend you start setting `weights_only=True` for any use case where you don't have full control of the loaded file. Please open an issue on GitHub for any issues related to this experimental feature.\n",
      "  checkpoint = torch.load(filename, lambda storage, loc: storage)\n",
      "c:\\Users\\jack_\\miniconda3\\envs\\cde-dev-2\\lib\\site-packages\\stanza\\models\\common\\pretrain.py:56: FutureWarning: You are using `torch.load` with `weights_only=False` (the current default value), which uses the default pickle module implicitly. It is possible to construct malicious pickle data which will execute arbitrary code during unpickling (See https://github.com/pytorch/pytorch/blob/main/SECURITY.md#untrusted-models for more details). In a future release, the default value for `weights_only` will be flipped to `True`. This limits the functions that could be executed during unpickling. Arbitrary objects will no longer be allowed to be loaded via this mode unless they are explicitly allowlisted by the user via `torch.serialization.add_safe_globals`. We recommend you start setting `weights_only=True` for any use case where you don't have full control of the loaded file. Please open an issue on GitHub for any issues related to this experimental feature.\n",
      "  data = torch.load(self.filename, lambda storage, loc: storage)\n",
      "c:\\Users\\jack_\\miniconda3\\envs\\cde-dev-2\\lib\\site-packages\\stanza\\models\\common\\char_model.py:262: FutureWarning: You are using `torch.load` with `weights_only=False` (the current default value), which uses the default pickle module implicitly. It is possible to construct malicious pickle data which will execute arbitrary code during unpickling (See https://github.com/pytorch/pytorch/blob/main/SECURITY.md#untrusted-models for more details). In a future release, the default value for `weights_only` will be flipped to `True`. This limits the functions that could be executed during unpickling. Arbitrary objects will no longer be allowed to be loaded via this mode unless they are explicitly allowlisted by the user via `torch.serialization.add_safe_globals`. We recommend you start setting `weights_only=True` for any use case where you don't have full control of the loaded file. Please open an issue on GitHub for any issues related to this experimental feature.\n",
      "  state = torch.load(filename, lambda storage, loc: storage)\n"
     ]
    }
   ],
   "source": [
    "from allennlp.models.archival import load_archive\n",
    "from chemdataextractor.data import find_data\n",
    "import json\n",
    "import pprint"
   ]
  },
  {
   "cell_type": "code",
   "execution_count": 2,
   "metadata": {},
   "outputs": [
    {
     "name": "stderr",
     "output_type": "stream",
     "text": [
      "c:\\Users\\jack_\\miniconda3\\envs\\cde-dev-2\\lib\\site-packages\\pytorch_pretrained_bert\\modeling.py:603: FutureWarning: You are using `torch.load` with `weights_only=False` (the current default value), which uses the default pickle module implicitly. It is possible to construct malicious pickle data which will execute arbitrary code during unpickling (See https://github.com/pytorch/pytorch/blob/main/SECURITY.md#untrusted-models for more details). In a future release, the default value for `weights_only` will be flipped to `True`. This limits the functions that could be executed during unpickling. Arbitrary objects will no longer be allowed to be loaded via this mode unless they are explicitly allowlisted by the user via `torch.serialization.add_safe_globals`. We recommend you start setting `weights_only=True` for any use case where you don't have full control of the loaded file. Please open an issue on GitHub for any issues related to this experimental feature.\n",
      "  state_dict = torch.load(weights_path, map_location='cpu')\n",
      "c:\\Users\\jack_\\miniconda3\\envs\\cde-dev-2\\lib\\site-packages\\allennlp\\models\\model.py:275: FutureWarning: You are using `torch.load` with `weights_only=False` (the current default value), which uses the default pickle module implicitly. It is possible to construct malicious pickle data which will execute arbitrary code during unpickling (See https://github.com/pytorch/pytorch/blob/main/SECURITY.md#untrusted-models for more details). In a future release, the default value for `weights_only` will be flipped to `True`. This limits the functions that could be executed during unpickling. Arbitrary objects will no longer be allowed to be loaded via this mode unless they are explicitly allowlisted by the user via `torch.serialization.add_safe_globals`. We recommend you start setting `weights_only=True` for any use case where you don't have full control of the loaded file. Please open an issue on GitHub for any issues related to this experimental feature.\n",
      "  model_state = torch.load(weights_file, map_location=util.device_mapping(cuda_device))\n"
     ]
    }
   ],
   "source": [
    "overrides = {\"model.text_field_embedder.token_embedders.bert.pretrained_model\": find_data(\"models/scibert_cased_weights-1.0.tar.gz\")}\n",
    "cde_bert_archive = load_archive(find_data('models/bert_finetuned_crf_model-1.0a'), overrides=json.dumps(overrides))\n",
    "cde_bertcrf_model = cde_bert_archive.model\n",
    "cde_bertcrf_model_state_dict = cde_bertcrf_model.state_dict()"
   ]
  },
  {
   "cell_type": "code",
   "execution_count": 3,
   "metadata": {},
   "outputs": [
    {
     "data": {
      "text/plain": [
       "_IndexToTokenDefaultDict(None, {'labels': {0: 'O', 1: 'I-CEM', 2: 'B-CEM'}})"
      ]
     },
     "execution_count": 3,
     "metadata": {},
     "output_type": "execute_result"
    }
   ],
   "source": [
    "cde_bertcrf_model.vocab._index_to_token"
   ]
  },
  {
   "cell_type": "code",
   "execution_count": 38,
   "metadata": {},
   "outputs": [],
   "source": [
    "import torch\n",
    "import torch.nn as nn\n",
    "from transformers import AutoModel, PreTrainedModel, AutoConfig, PretrainedConfig\n",
    "from torch.utils.data import Dataset, DataLoader\n",
    "from chemdataextractor.nlp.crf import ConditionalRandomField, allowed_transitions\n",
    "from chemdataextractor.nlp.allennlp_modules import TimeDistributed\n",
    "from chemdataextractor.errors import ConfigurationError\n",
    "from typing import Dict, Optional, List, Tuple\n",
    "from overrides import overrides\n",
    "\n",
    "class BertCrfConfig(PretrainedConfig):\n",
    "    model_type = 'bert'\n",
    "    \n",
    "    def __init__(\n",
    "        self,\n",
    "        num_tags: int = 3,\n",
    "        dropout=0.1,\n",
    "        label_namespace: str = \"labels\",\n",
    "        label_encoding: Optional[str] = None,\n",
    "        index_and_label: List[Tuple[int, str]] = None,\n",
    "        constrain_crf_decoding: bool = True,\n",
    "        include_start_end_transitions: bool = True,\n",
    "        model_name_or_path: str = None,\n",
    "        **kwargs\n",
    "    ):\n",
    "        self.num_tags = num_tags\n",
    "        self.dropout = dropout\n",
    "        self.label_namespace = label_namespace\n",
    "        self.label_encoding = label_encoding\n",
    "        self.index_and_label = index_and_label\n",
    "        self.constrain_crf_decoding = constrain_crf_decoding\n",
    "        self.include_start_end_transitions = include_start_end_transitions\n",
    "        self.model_name_or_path = model_name_or_path\n",
    "        super().__init__(**kwargs)\n",
    "\n",
    "\n",
    "class BertCrfTagger(PreTrainedModel):\n",
    "    config_class = BertCrfConfig  # Required for saving/loading\n",
    "    \n",
    "    def __init__(self, config):\n",
    "\n",
    "        super().__init__(config)\n",
    "        self.bert_model = AutoModel.from_config(AutoConfig.from_pretrained(config.model_name_or_path))\n",
    "        self.num_tags = config.num_tags\n",
    "        self.tag_projection_layer = TimeDistributed(\n",
    "            nn.Linear(self.bert_model.config.hidden_size, self.num_tags)\n",
    "        )\n",
    "\n",
    "        self.label_encoding = config.label_encoding\n",
    "        self.index_and_label = config.index_and_label\n",
    "        self.index_to_label = self._index_to_label()\n",
    "        self.label_to_index = self._label_to_index()\n",
    "    \n",
    "        if config.constrain_crf_decoding:\n",
    "            if not config.label_encoding:\n",
    "                raise ConfigurationError(\"constrain_crf_decoding is True, but \"\n",
    "                                         \"no label_encoding was specified.\")\n",
    "            labels = self.index_to_label\n",
    "            constraints = allowed_transitions(config.label_encoding, labels)\n",
    "        else:\n",
    "            constraints = None\n",
    "\n",
    "        self.include_start_end_transitions = config.include_start_end_transitions\n",
    "        self.crf = ConditionalRandomField(\n",
    "                self.num_tags, constraints,\n",
    "                include_start_end_transitions=config.include_start_end_transitions\n",
    "        )\n",
    "\n",
    "        \n",
    "        # Dropout for regularization\n",
    "        self.dropout = nn.Dropout(config.dropout)\n",
    "    \n",
    "    def _index_to_label(self):\n",
    "        return {index: label for index, label in self.index_and_label}\n",
    "    \n",
    "    def _label_to_index(self):\n",
    "        return {label: index for index, label in self.index_and_label}\n",
    "\n",
    "    def forward(self, input_ids, attention_mask, labels=None):\n",
    "        # BERT embeddings\n",
    "        outputs = self.bert_model(input_ids=input_ids, attention_mask=attention_mask)\n",
    "        sequence_output = outputs.last_hidden_state\n",
    "        sequence_output = self.dropout(sequence_output)\n",
    "        \n",
    "        # Project onto tag space\n",
    "        logits = self.tag_projection_layer(sequence_output)\n",
    "        best_paths = self.crf.viterbi_tags(logits, attention_mask)\n",
    "\n",
    "        predicted_tags = [x for x, y in best_paths]\n",
    "\n",
    "        output = {\"logits\": logits, \"mask\": attention_mask, \"tags\": predicted_tags}\n",
    "        \n",
    "        return output\n",
    "\n",
    "    def decode(self, output_dict: Dict[str, torch.Tensor]) -> Dict[str, torch.Tensor]:\n",
    "        \"\"\"\n",
    "        Converts the tag ids to the actual tags.\n",
    "        ``output_dict[\"tags\"]`` is a list of lists of tag_ids,\n",
    "        so we use an ugly nested list comprehension.\n",
    "        \"\"\"\n",
    "        output_dict[\"tags\"] = [\n",
    "                [self.index_to_label[tag]\n",
    "                 for tag in instance_tags]\n",
    "                for instance_tags in output_dict[\"tags\"]\n",
    "        ]\n",
    "        return output_dict\n"
   ]
  },
  {
   "cell_type": "code",
   "execution_count": 39,
   "metadata": {},
   "outputs": [],
   "source": [
    "bertcrf_config = BertCrfConfig(\n",
    "    num_tags=3,\n",
    "    label_namespace=\"labels\",\n",
    "    label_encoding=\"BIO\",\n",
    "    index_and_label=[(0, \"O\"), (1, \"B-CEM\"), (2, \"I-CEM\")],\n",
    "    constrain_crf_decoding=True,\n",
    "    include_start_end_transitions=False,\n",
    "    dropout=0.1,\n",
    "    model_name_or_path=\"allenai/scibert_scivocab_cased\"\n",
    ")"
   ]
  },
  {
   "cell_type": "code",
   "execution_count": 40,
   "metadata": {},
   "outputs": [
    {
     "data": {
      "text/plain": [
       "True"
      ]
     },
     "execution_count": 40,
     "metadata": {},
     "output_type": "execute_result"
    }
   ],
   "source": [
    "bertcrf_config.constrain_crf_decoding"
   ]
  },
  {
   "cell_type": "code",
   "execution_count": 41,
   "metadata": {},
   "outputs": [],
   "source": [
    "bertcrf_config.save_pretrained((\"C:/Users/jack_/Desktop/cde_models/hf_bert_crf_tagger\"))"
   ]
  },
  {
   "cell_type": "code",
   "execution_count": 42,
   "metadata": {},
   "outputs": [],
   "source": [
    "bertcrf_tagger = BertCrfTagger(bertcrf_config)"
   ]
  },
  {
   "cell_type": "code",
   "execution_count": 43,
   "metadata": {},
   "outputs": [
    {
     "data": {
      "text/plain": [
       "BertCrfTagger(\n",
       "  (bert_model): BertModel(\n",
       "    (embeddings): BertEmbeddings(\n",
       "      (word_embeddings): Embedding(31116, 768, padding_idx=0)\n",
       "      (position_embeddings): Embedding(512, 768)\n",
       "      (token_type_embeddings): Embedding(2, 768)\n",
       "      (LayerNorm): LayerNorm((768,), eps=1e-12, elementwise_affine=True)\n",
       "      (dropout): Dropout(p=0.1, inplace=False)\n",
       "    )\n",
       "    (encoder): BertEncoder(\n",
       "      (layer): ModuleList(\n",
       "        (0-11): 12 x BertLayer(\n",
       "          (attention): BertAttention(\n",
       "            (self): BertSdpaSelfAttention(\n",
       "              (query): Linear(in_features=768, out_features=768, bias=True)\n",
       "              (key): Linear(in_features=768, out_features=768, bias=True)\n",
       "              (value): Linear(in_features=768, out_features=768, bias=True)\n",
       "              (dropout): Dropout(p=0.1, inplace=False)\n",
       "            )\n",
       "            (output): BertSelfOutput(\n",
       "              (dense): Linear(in_features=768, out_features=768, bias=True)\n",
       "              (LayerNorm): LayerNorm((768,), eps=1e-12, elementwise_affine=True)\n",
       "              (dropout): Dropout(p=0.1, inplace=False)\n",
       "            )\n",
       "          )\n",
       "          (intermediate): BertIntermediate(\n",
       "            (dense): Linear(in_features=768, out_features=3072, bias=True)\n",
       "            (intermediate_act_fn): GELUActivation()\n",
       "          )\n",
       "          (output): BertOutput(\n",
       "            (dense): Linear(in_features=3072, out_features=768, bias=True)\n",
       "            (LayerNorm): LayerNorm((768,), eps=1e-12, elementwise_affine=True)\n",
       "            (dropout): Dropout(p=0.1, inplace=False)\n",
       "          )\n",
       "        )\n",
       "      )\n",
       "    )\n",
       "    (pooler): BertPooler(\n",
       "      (dense): Linear(in_features=768, out_features=768, bias=True)\n",
       "      (activation): Tanh()\n",
       "    )\n",
       "  )\n",
       "  (tag_projection_layer): TimeDistributed(\n",
       "    (_module): Linear(in_features=768, out_features=3, bias=True)\n",
       "  )\n",
       "  (crf): ConditionalRandomField()\n",
       "  (dropout): Dropout(p=0.1, inplace=False)\n",
       ")"
      ]
     },
     "execution_count": 43,
     "metadata": {},
     "output_type": "execute_result"
    }
   ],
   "source": [
    "bertcrf_tagger"
   ]
  },
  {
   "cell_type": "code",
   "execution_count": 44,
   "metadata": {},
   "outputs": [],
   "source": [
    "state_dict = {}\n",
    "for k, v in cde_bertcrf_model_state_dict.items():\n",
    "    if k.startswith(\"text_field_embedder.token_embedder_bert\"):\n",
    "        state_dict[k[40:]] = v\n",
    "    else:\n",
    "        state_dict[k] = v\n",
    "# print(state_dict.keys())"
   ]
  },
  {
   "cell_type": "code",
   "execution_count": 45,
   "metadata": {},
   "outputs": [
    {
     "data": {
      "text/plain": [
       "<All keys matched successfully>"
      ]
     },
     "execution_count": 45,
     "metadata": {},
     "output_type": "execute_result"
    }
   ],
   "source": [
    "bertcrf_tagger.load_state_dict(state_dict=state_dict, strict=False)"
   ]
  },
  {
   "cell_type": "code",
   "execution_count": 46,
   "metadata": {},
   "outputs": [],
   "source": [
    "bertcrf_tagger.save_pretrained(\"C:/Users/jack_/Desktop/cde_models/hf_bert_crf_tagger\")"
   ]
  },
  {
   "cell_type": "code",
   "execution_count": 47,
   "metadata": {},
   "outputs": [],
   "source": [
    "from transformers import AutoTokenizer\n",
    "tokenizer = AutoTokenizer.from_pretrained(\"allenai/scibert_scivocab_cased\")\n",
    "input_dict = tokenizer(\"The solid is suspended in hexanes, stirred and filtered to give the product as a bright yellow solid.\")"
   ]
  },
  {
   "cell_type": "code",
   "execution_count": 48,
   "metadata": {},
   "outputs": [],
   "source": [
    "bertcrf_tagger.eval()\n",
    "with torch.no_grad():\n",
    "    output = bertcrf_tagger(torch.tensor([input_dict[\"input_ids\"]]), torch.tensor([input_dict[\"attention_mask\"]]))\n",
    "    tag = bertcrf_tagger.decode(output)"
   ]
  },
  {
   "cell_type": "code",
   "execution_count": 49,
   "metadata": {},
   "outputs": [
    {
     "data": {
      "text/plain": [
       "{'logits': tensor([[[ 8.4781, -4.2020, -5.3099],\n",
       "          [ 9.7737, -4.5281, -6.2595],\n",
       "          [10.2484, -4.6720, -6.5659],\n",
       "          [10.3615, -4.6831, -6.6576],\n",
       "          [10.0999, -4.5903, -6.5009],\n",
       "          [10.1020, -4.5661, -6.5201],\n",
       "          [ 4.1564, -3.3281, -1.4729],\n",
       "          [ 3.9591, -2.3494, -2.1486],\n",
       "          [ 9.8551, -4.5055, -6.3543],\n",
       "          [10.3249, -4.6419, -6.6580],\n",
       "          [10.1838, -4.5790, -6.5858],\n",
       "          [10.0989, -4.5787, -6.5101],\n",
       "          [10.1186, -4.5390, -6.5599],\n",
       "          [10.0613, -4.5838, -6.4721],\n",
       "          [ 9.6473, -4.4857, -6.1808],\n",
       "          [ 9.9373, -4.5720, -6.3730],\n",
       "          [ 9.9109, -4.5668, -6.3527],\n",
       "          [10.1182, -4.6066, -6.5047],\n",
       "          [10.3794, -4.6924, -6.6648],\n",
       "          [10.2902, -4.6713, -6.6023],\n",
       "          [10.3165, -4.6832, -6.6144],\n",
       "          [ 9.6699, -4.5362, -6.1608],\n",
       "          [ 8.4256, -4.1818, -5.2765]]]),\n",
       " 'mask': tensor([[1, 1, 1, 1, 1, 1, 1, 1, 1, 1, 1, 1, 1, 1, 1, 1, 1, 1, 1, 1, 1, 1, 1]]),\n",
       " 'tags': [['O',\n",
       "   'O',\n",
       "   'O',\n",
       "   'O',\n",
       "   'O',\n",
       "   'O',\n",
       "   'O',\n",
       "   'O',\n",
       "   'O',\n",
       "   'O',\n",
       "   'O',\n",
       "   'O',\n",
       "   'O',\n",
       "   'O',\n",
       "   'O',\n",
       "   'O',\n",
       "   'O',\n",
       "   'O',\n",
       "   'O',\n",
       "   'O',\n",
       "   'O',\n",
       "   'O',\n",
       "   'O']]}"
      ]
     },
     "execution_count": 49,
     "metadata": {},
     "output_type": "execute_result"
    }
   ],
   "source": [
    "tag"
   ]
  },
  {
   "cell_type": "code",
   "execution_count": 17,
   "metadata": {},
   "outputs": [
    {
     "name": "stdout",
     "output_type": "stream",
     "text": [
      "Initialising AllenNLP model .  "
     ]
    },
    {
     "name": "stderr",
     "output_type": "stream",
     "text": [
      "c:\\Users\\jack_\\miniconda3\\envs\\cde-dev-2\\lib\\site-packages\\allennlp\\models\\model.py:275: FutureWarning: You are using `torch.load` with `weights_only=False` (the current default value), which uses the default pickle module implicitly. It is possible to construct malicious pickle data which will execute arbitrary code during unpickling (See https://github.com/pytorch/pytorch/blob/main/SECURITY.md#untrusted-models for more details). In a future release, the default value for `weights_only` will be flipped to `True`. This limits the functions that could be executed during unpickling. Arbitrary objects will no longer be allowed to be loaded via this mode unless they are explicitly allowlisted by the user via `torch.serialization.add_safe_globals`. We recommend you start setting `weights_only=True` for any use case where you don't have full control of the loaded file. Please open an issue on GitHub for any issues related to this experimental feature.\n",
      "  model_state = torch.load(weights_file, map_location=util.device_mapping(cuda_device))\n"
     ]
    },
    {
     "name": "stdout",
     "output_type": "stream",
     "text": [
      "Initialising AllenNLP model ✔   \n"
     ]
    },
    {
     "data": {
      "text/plain": [
       "[('The', 'O'),\n",
       " ('solid', 'O'),\n",
       " ('is', 'O'),\n",
       " ('suspended', 'O'),\n",
       " ('in', 'O'),\n",
       " ('hexanes', 'B-CM'),\n",
       " (',', 'O'),\n",
       " ('stirred', 'O'),\n",
       " ('and', 'O'),\n",
       " ('filtered', 'O'),\n",
       " ('to', 'O'),\n",
       " ('give', 'O'),\n",
       " ('the', 'O'),\n",
       " ('product', 'O'),\n",
       " ('as', 'O'),\n",
       " ('a', 'O'),\n",
       " ('bright', 'O'),\n",
       " ('yellow', 'O'),\n",
       " ('solid', 'O'),\n",
       " ('.', 'O')]"
      ]
     },
     "execution_count": 17,
     "metadata": {},
     "output_type": "execute_result"
    }
   ],
   "source": [
    "from chemdataextractor.doc import Sentence\n",
    "s = Sentence(\"The solid is suspended in hexanes, stirred and filtered to give the product as a bright yellow solid.\")\n",
    "s.ner_tagged_tokens"
   ]
  },
  {
   "cell_type": "code",
   "execution_count": null,
   "metadata": {},
   "outputs": [],
   "source": []
  }
 ],
 "metadata": {
  "kernelspec": {
   "display_name": "cde-dev-2",
   "language": "python",
   "name": "python3"
  },
  "language_info": {
   "codemirror_mode": {
    "name": "ipython",
    "version": 3
   },
   "file_extension": ".py",
   "mimetype": "text/x-python",
   "name": "python",
   "nbconvert_exporter": "python",
   "pygments_lexer": "ipython3",
   "version": "3.8.20"
  }
 },
 "nbformat": 4,
 "nbformat_minor": 2
}
