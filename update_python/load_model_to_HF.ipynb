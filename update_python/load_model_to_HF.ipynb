{
 "cells": [
  {
   "cell_type": "code",
   "execution_count": 1,
   "metadata": {},
   "outputs": [],
   "source": [
    "import warnings\n",
    "warnings.filterwarnings(\"ignore\", category=FutureWarning)\n",
    "from allennlp.models.archival import load_archive\n",
    "from chemdataextractor.data import find_data\n",
    "import json, os, appdirs\n",
    "import pprint"
   ]
  },
  {
   "cell_type": "code",
   "execution_count": 2,
   "metadata": {},
   "outputs": [],
   "source": [
    "overrides = {\"model.text_field_embedder.token_embedders.bert.pretrained_model\": find_data(\"models/scibert_cased_weights-1.0.tar.gz\")}\n",
    "cde_bert_archive = load_archive(find_data('models/bert_finetuned_crf_model-1.0a'), overrides=json.dumps(overrides))\n",
    "cde_bertcrf_model = cde_bert_archive.model\n",
    "cde_bertcrf_model_state_dict = cde_bertcrf_model.state_dict()"
   ]
  },
  {
   "cell_type": "code",
   "execution_count": 3,
   "metadata": {},
   "outputs": [
    {
     "data": {
      "text/plain": [
       "_IndexToTokenDefaultDict(None, {'labels': {0: 'O', 1: 'I-CEM', 2: 'B-CEM'}})"
      ]
     },
     "execution_count": 3,
     "metadata": {},
     "output_type": "execute_result"
    }
   ],
   "source": [
    "cde_bertcrf_model.vocab._index_to_token"
   ]
  },
  {
   "cell_type": "code",
   "execution_count": 4,
   "metadata": {},
   "outputs": [],
   "source": [
    "import torch\n",
    "import torch.nn as nn\n",
    "from transformers import AutoModel, PreTrainedModel, AutoConfig, PretrainedConfig\n",
    "from torch.utils.data import Dataset, DataLoader\n",
    "from chemdataextractor.nlp.crf import ConditionalRandomField, allowed_transitions\n",
    "from chemdataextractor.nlp.allennlp_modules import TimeDistributed\n",
    "from chemdataextractor.errors import ConfigurationError\n",
    "from typing import Dict, Optional, List, Tuple\n",
    "from overrides import overrides\n",
    "\n",
    "class BertCrfConfig(PretrainedConfig):\n",
    "    model_type = 'bert'\n",
    "    \n",
    "    def __init__(\n",
    "        self,\n",
    "        num_tags: int = 3,\n",
    "        dropout=0.1,\n",
    "        label_namespace: str = \"labels\",\n",
    "        label_encoding: Optional[str] = None,\n",
    "        index_and_label: List[Tuple[int, str]] = None,\n",
    "        constrain_crf_decoding: bool = True,\n",
    "        include_start_end_transitions: bool = True,\n",
    "        model_name_or_path: str = None,\n",
    "        **kwargs\n",
    "    ):\n",
    "        self.num_tags = num_tags\n",
    "        self.dropout = dropout\n",
    "        self.label_namespace = label_namespace\n",
    "        self.label_encoding = label_encoding\n",
    "        self.index_and_label = index_and_label\n",
    "        self.constrain_crf_decoding = constrain_crf_decoding\n",
    "        self.include_start_end_transitions = include_start_end_transitions\n",
    "        self.model_name_or_path = model_name_or_path\n",
    "        super().__init__(**kwargs)\n",
    "\n",
    "\n",
    "class BertCrfTagger(PreTrainedModel):\n",
    "    config_class = BertCrfConfig  # Required for saving/loading\n",
    "    \n",
    "    def __init__(self, config):\n",
    "\n",
    "        super().__init__(config)\n",
    "        self.bert_model = AutoModel.from_config(AutoConfig.from_pretrained(config.model_name_or_path))\n",
    "        self.num_tags = config.num_tags\n",
    "        self.tag_projection_layer = TimeDistributed(\n",
    "            nn.Linear(self.bert_model.config.hidden_size, self.num_tags)\n",
    "        )\n",
    "\n",
    "        self.label_encoding = config.label_encoding\n",
    "        self.index_and_label = config.index_and_label\n",
    "        self.index_to_label = self._index_to_label()\n",
    "        self.label_to_index = self._label_to_index()\n",
    "    \n",
    "        if config.constrain_crf_decoding:\n",
    "            if not config.label_encoding:\n",
    "                raise ConfigurationError(\"constrain_crf_decoding is True, but \"\n",
    "                                         \"no label_encoding was specified.\")\n",
    "            labels = self.index_to_label\n",
    "            constraints = allowed_transitions(config.label_encoding, labels)\n",
    "        else:\n",
    "            constraints = None\n",
    "\n",
    "        self.include_start_end_transitions = config.include_start_end_transitions\n",
    "        self.crf = ConditionalRandomField(\n",
    "                self.num_tags, constraints,\n",
    "                include_start_end_transitions=config.include_start_end_transitions\n",
    "        )\n",
    "\n",
    "        \n",
    "        # Dropout for regularization\n",
    "        self.dropout = nn.Dropout(config.dropout)\n",
    "    \n",
    "    def _index_to_label(self):\n",
    "        return {index: label for index, label in self.index_and_label}\n",
    "    \n",
    "    def _label_to_index(self):\n",
    "        return {label: index for index, label in self.index_and_label}\n",
    "\n",
    "    def forward(self, input_ids, attention_mask, labels=None):\n",
    "        # BERT embeddings\n",
    "        outputs = self.bert_model(input_ids=input_ids, attention_mask=attention_mask)\n",
    "        sequence_output = outputs.last_hidden_state\n",
    "        sequence_output = self.dropout(sequence_output)\n",
    "        \n",
    "        # Project onto tag space\n",
    "        logits = self.tag_projection_layer(sequence_output)\n",
    "        best_paths = self.crf.viterbi_tags(logits, attention_mask)\n",
    "\n",
    "        predicted_tags = [x for x, y in best_paths]\n",
    "\n",
    "        output = {\"logits\": logits, \"mask\": attention_mask, \"tags\": predicted_tags}\n",
    "        \n",
    "        return output\n",
    "\n",
    "    def decode(self, output_dict: Dict[str, torch.Tensor]) -> Dict[str, torch.Tensor]:\n",
    "        \"\"\"\n",
    "        Converts the tag ids to the actual tags.\n",
    "        ``output_dict[\"tags\"]`` is a list of lists of tag_ids,\n",
    "        so we use an ugly nested list comprehension.\n",
    "        \"\"\"\n",
    "        output_dict[\"tags\"] = [\n",
    "                [self.index_to_label[tag]\n",
    "                 for tag in instance_tags]\n",
    "                for instance_tags in output_dict[\"tags\"]\n",
    "        ]\n",
    "        return output_dict\n"
   ]
  },
  {
   "cell_type": "code",
   "execution_count": 5,
   "metadata": {},
   "outputs": [],
   "source": [
    "bertcrf_config = BertCrfConfig(\n",
    "    num_tags=3,\n",
    "    label_namespace=\"labels\",\n",
    "    label_encoding=\"BIO\",\n",
    "    index_and_label=[(0, \"O\"), (1, \"I-CEM\"), (2, \"B-CEM\")],\n",
    "    constrain_crf_decoding=True,\n",
    "    include_start_end_transitions=False,\n",
    "    dropout=0.1,\n",
    "    model_name_or_path=\"allenai/scibert_scivocab_cased\"\n",
    ")"
   ]
  },
  {
   "cell_type": "code",
   "execution_count": 6,
   "metadata": {},
   "outputs": [
    {
     "data": {
      "text/plain": [
       "True"
      ]
     },
     "execution_count": 6,
     "metadata": {},
     "output_type": "execute_result"
    }
   ],
   "source": [
    "bertcrf_config.constrain_crf_decoding"
   ]
  },
  {
   "cell_type": "code",
   "execution_count": 7,
   "metadata": {},
   "outputs": [
    {
     "name": "stdout",
     "output_type": "stream",
     "text": [
      "/home/dh582/.local/share/ChemDataExtractor/models/hf_bert_crf_tagger\n"
     ]
    }
   ],
   "source": [
    "save_dir = os.path.join(appdirs.user_data_dir('ChemDataExtractor'), 'models/hf_bert_crf_tagger')\n",
    "print(save_dir)"
   ]
  },
  {
   "cell_type": "code",
   "execution_count": 8,
   "metadata": {},
   "outputs": [],
   "source": [
    "bertcrf_config.save_pretrained(save_dir)"
   ]
  },
  {
   "cell_type": "code",
   "execution_count": 9,
   "metadata": {},
   "outputs": [],
   "source": [
    "bertcrf_tagger = BertCrfTagger(bertcrf_config)"
   ]
  },
  {
   "cell_type": "code",
   "execution_count": 10,
   "metadata": {},
   "outputs": [],
   "source": [
    "state_dict = {}\n",
    "for k, v in cde_bertcrf_model_state_dict.items():\n",
    "    if k.startswith(\"text_field_embedder.token_embedder_bert\"):\n",
    "        state_dict[k[40:]] = v\n",
    "    else:\n",
    "        state_dict[k] = v\n",
    "# print(state_dict.keys())"
   ]
  },
  {
   "cell_type": "code",
   "execution_count": 11,
   "metadata": {},
   "outputs": [
    {
     "data": {
      "text/plain": [
       "<All keys matched successfully>"
      ]
     },
     "execution_count": 11,
     "metadata": {},
     "output_type": "execute_result"
    }
   ],
   "source": [
    "bertcrf_tagger.load_state_dict(state_dict=state_dict, strict=False)"
   ]
  },
  {
   "cell_type": "code",
   "execution_count": 12,
   "metadata": {},
   "outputs": [],
   "source": [
    "bertcrf_tagger.save_pretrained(save_dir)"
   ]
  },
  {
   "cell_type": "code",
   "execution_count": 13,
   "metadata": {},
   "outputs": [],
   "source": [
    "from transformers import BertTokenizer\n",
    "tokenizer = BertTokenizer(vocab_file=find_data('models/scibert_cased_vocab-1.0.txt'), do_lower_case=False)\n",
    "input_dict = tokenizer(\"The chemical formula of water is H2O.\")"
   ]
  },
  {
   "cell_type": "code",
   "execution_count": 14,
   "metadata": {},
   "outputs": [
    {
     "data": {
      "text/plain": [
       "('/home/dh582/.local/share/ChemDataExtractor/models/hf_bert_crf_tagger/tokenizer_config.json',\n",
       " '/home/dh582/.local/share/ChemDataExtractor/models/hf_bert_crf_tagger/special_tokens_map.json',\n",
       " '/home/dh582/.local/share/ChemDataExtractor/models/hf_bert_crf_tagger/vocab.txt',\n",
       " '/home/dh582/.local/share/ChemDataExtractor/models/hf_bert_crf_tagger/added_tokens.json')"
      ]
     },
     "execution_count": 14,
     "metadata": {},
     "output_type": "execute_result"
    }
   ],
   "source": [
    "tokenizer.save_pretrained(save_dir)"
   ]
  },
  {
   "cell_type": "code",
   "execution_count": 22,
   "metadata": {},
   "outputs": [],
   "source": [
    "bertcrf_tagger.eval()\n",
    "with torch.no_grad():\n",
    "    output = bertcrf_tagger(torch.tensor([input_dict[\"input_ids\"]]), torch.tensor([input_dict[\"attention_mask\"]]))\n",
    "    tag = bertcrf_tagger.decode(output)"
   ]
  },
  {
   "cell_type": "code",
   "execution_count": 23,
   "metadata": {},
   "outputs": [
    {
     "data": {
      "text/plain": [
       "{'logits': tensor([[[ 9.2465, -4.4532, -5.7068],\n",
       "          [10.0801, -4.6235, -6.3135],\n",
       "          [10.1462, -4.6416, -6.3580],\n",
       "          [10.0347, -4.6187, -6.2793],\n",
       "          [10.1487, -4.6174, -6.3801],\n",
       "          [10.1001, -4.6115, -6.3406],\n",
       "          [10.0827, -4.5815, -6.3484],\n",
       "          [ 1.8490, -4.8789,  2.1975],\n",
       "          [-0.2525,  4.1726, -2.9152],\n",
       "          [-0.0103,  4.3760, -3.4589],\n",
       "          [ 9.5042, -4.4805, -5.9208],\n",
       "          [ 9.1265, -4.4352, -5.6125]]]),\n",
       " 'mask': tensor([[1, 1, 1, 1, 1, 1, 1, 1, 1, 1, 1, 1]]),\n",
       " 'tags': [['O',\n",
       "   'O',\n",
       "   'O',\n",
       "   'O',\n",
       "   'O',\n",
       "   'O',\n",
       "   'O',\n",
       "   'I-CEM',\n",
       "   'B-CEM',\n",
       "   'B-CEM',\n",
       "   'O',\n",
       "   'O']]}"
      ]
     },
     "execution_count": 23,
     "metadata": {},
     "output_type": "execute_result"
    }
   ],
   "source": [
    "tag"
   ]
  },
  {
   "cell_type": "code",
   "execution_count": 26,
   "metadata": {},
   "outputs": [
    {
     "name": "stdout",
     "output_type": "stream",
     "text": [
      "tokens: {'bert': tensor([[  101,   186,  3556,  4841,   125,  1583,   163,   233, 30130, 30159,\n",
      "           211,   102]]), 'bert-offsets': tensor([[ 1,  2,  3,  4,  5,  6,  7, 10]]), 'bert-type-ids': tensor([[0, 0, 0, 0, 0, 0, 0, 0, 0, 0, 0, 0]]), 'mask': tensor([[1, 1, 1, 1, 1, 1, 1, 1]])}\n",
      "embedded_text_input: tensor([[[ 1.4035, -0.6533, -0.3828,  ..., -0.8605,  0.0689,  0.2380],\n",
      "         [ 1.4013, -0.6504, -0.3632,  ..., -0.8577,  0.0815,  0.2464],\n",
      "         [ 1.4011, -0.6624, -0.3886,  ..., -0.8685,  0.0624,  0.2448],\n",
      "         ...,\n",
      "         [ 1.4000, -0.6552, -0.3846,  ..., -0.8585,  0.0710,  0.2238],\n",
      "         [-0.0509, -0.5476, -0.2018,  ..., -0.2917,  0.4364,  0.9864],\n",
      "         [ 1.3849, -0.6988, -0.4754,  ..., -0.9258, -0.0135,  0.2528]]]) \n",
      "of shape: torch.Size([1, 8, 768])\n",
      "mask: tensor([[1, 1, 1, 1, 1, 1, 1, 1]])\n"
     ]
    }
   ],
   "source": [
    "from chemdataextractor.doc import Sentence\n",
    "s = Sentence(\"The chemical formula of water is H2O.\")\n",
    "tagged_tokens = s.ner_tagged_tokens"
   ]
  },
  {
   "cell_type": "code",
   "execution_count": 27,
   "metadata": {},
   "outputs": [
    {
     "data": {
      "text/plain": [
       "[('The', 'O'),\n",
       " ('chemical', 'O'),\n",
       " ('formula', 'O'),\n",
       " ('of', 'O'),\n",
       " ('water', 'O'),\n",
       " ('is', 'O'),\n",
       " ('H2O', 'B-CM'),\n",
       " ('.', 'O')]"
      ]
     },
     "execution_count": 27,
     "metadata": {},
     "output_type": "execute_result"
    }
   ],
   "source": [
    "tagged_tokens"
   ]
  },
  {
   "cell_type": "code",
   "execution_count": null,
   "metadata": {},
   "outputs": [],
   "source": []
  }
 ],
 "metadata": {
  "kernelspec": {
   "display_name": "Python 3",
   "language": "python",
   "name": "python3"
  },
  "language_info": {
   "codemirror_mode": {
    "name": "ipython",
    "version": 3
   },
   "file_extension": ".py",
   "mimetype": "text/x-python",
   "name": "python",
   "nbconvert_exporter": "python",
   "pygments_lexer": "ipython3",
   "version": "3.8.20"
  }
 },
 "nbformat": 4,
 "nbformat_minor": 2
}
